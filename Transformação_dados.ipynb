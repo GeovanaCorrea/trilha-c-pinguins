{
  "nbformat": 4,
  "nbformat_minor": 0,
  "metadata": {
    "colab": {
      "provenance": []
    },
    "kernelspec": {
      "name": "python3",
      "display_name": "Python 3"
    },
    "language_info": {
      "name": "python"
    }
  },
  "cells": [
    {
      "cell_type": "markdown",
      "source": [
        "# **Transformação nos dados**"
      ],
      "metadata": {
        "id": "VNgwXDUUO76B"
      }
    },
    {
      "cell_type": "markdown",
      "source": [
        "**Conjunto de dados**:\n",
        "\n",
        "Dra. Isabela Mendes é biológa especialista em observar pinguins nas regiões polares e percebeu que existem 3 tipos de pinguins, sendo possível identificar com algumas características.\n",
        "\n",
        "Essa identificação é importante para compreender suas populações, comportamentos e os impactos. Porém, essa tarefa torna-se desafiadora quando é realizada individualmente consumindo muito tempo, muitas vezes requerendo a análise minuciosa.\n",
        "\n",
        "Determinada a superar esses obstáculos ela acredita que a ciência de dados pode ajudar na identificação automática dos pinguins.\n",
        "\n",
        "**Fonte dos dados:** [Pinguins Palmer](https://github.com/mwaskom/seaborn-data/blob/master/penguins.csv)"
      ],
      "metadata": {
        "id": "2gfrN5DFO6vO"
      }
    },
    {
      "cell_type": "markdown",
      "source": [
        "**Roteiro**\n",
        "\n",
        "🔷 Remover dados\n",
        "\n",
        "🔷 Realizar filtragens\n",
        "\n",
        "🔷 Aplicar tipos de filtragem (condições,min e máx)\n",
        "\n",
        "🔷 Ordenar dados\n",
        "\n",
        "*   Ascendente\n",
        "*   Descendente\n",
        "\n",
        "🔷 Agregar dados\n",
        "\n",
        "\n",
        "*   Somar\n",
        "*   Média\n",
        "*   Contagem"
      ],
      "metadata": {
        "id": "kalwlcf1QWK4"
      }
    },
    {
      "cell_type": "markdown",
      "source": [
        "# **Importações**"
      ],
      "metadata": {
        "id": "mZmVaXaBgYER"
      }
    },
    {
      "cell_type": "code",
      "source": [
        "import pandas as pd\n",
        "# from numpy import mean"
      ],
      "metadata": {
        "id": "_hFVFGN6RkUX"
      },
      "execution_count": null,
      "outputs": []
    },
    {
      "cell_type": "markdown",
      "source": [
        "# **Carregando dados**"
      ],
      "metadata": {
        "id": "PqKPviAigc3C"
      }
    },
    {
      "cell_type": "code",
      "source": [
        "df = pd.read_csv('pinguins_processado.csv',sep=';')"
      ],
      "metadata": {
        "id": "miv4-5M-gfJF"
      },
      "execution_count": null,
      "outputs": []
    },
    {
      "cell_type": "markdown",
      "source": [
        "# **Removendo dados**"
      ],
      "metadata": {
        "id": "GgPO76jZs4IE"
      }
    },
    {
      "cell_type": "code",
      "source": [
        "# Removendo linhas\n",
        "df2 = df.drop([0,1,3],axis=0)"
      ],
      "metadata": {
        "id": "_7w2nLAas0vv"
      },
      "execution_count": null,
      "outputs": []
    },
    {
      "cell_type": "code",
      "source": [
        "# Removendo colunas\n",
        "df2 = df.drop(['island','sex'],axis=1)"
      ],
      "metadata": {
        "id": "FyUgP3FCtIK3"
      },
      "execution_count": null,
      "outputs": []
    },
    {
      "cell_type": "markdown",
      "source": [
        "# **Filtragens**"
      ],
      "metadata": {
        "id": "1A8fn0NNgwNz"
      }
    },
    {
      "cell_type": "markdown",
      "source": [
        "*Filtragem de dados refere-se ao processo de selecionar e exibir apenas os dados que atendem a certos critérios ou condições específicas.*"
      ],
      "metadata": {
        "id": "U-RTLr3GjLdJ"
      }
    },
    {
      "cell_type": "code",
      "source": [
        "df.sample(5)"
      ],
      "metadata": {
        "colab": {
          "base_uri": "https://localhost:8080/",
          "height": 206
        },
        "id": "b_DRrftWg0pq",
        "outputId": "64624db2-177d-4ccf-cb5f-ca4ae3c4937f"
      },
      "execution_count": null,
      "outputs": [
        {
          "output_type": "execute_result",
          "data": {
            "text/plain": [
              "       species     island  bill_length_mm  bill_depth_mm  flipper_length_mm  \\\n",
              "70      ADELIE  TORGERSEN            40.9           16.8              191.0   \n",
              "52      ADELIE     BISCOE            36.5           16.6              181.0   \n",
              "201  CHINSTRAP      DREAM            52.2           18.8              197.0   \n",
              "43      ADELIE      DREAM            42.3           21.2              191.0   \n",
              "133     ADELIE      DREAM            39.7           17.9              193.0   \n",
              "\n",
              "     body_mass_g     sex  \n",
              "70        3700.0  FEMALE  \n",
              "52        2850.0  FEMALE  \n",
              "201       3450.0    MALE  \n",
              "43        4150.0    MALE  \n",
              "133       4250.0    MALE  "
            ],
            "text/html": [
              "\n",
              "  <div id=\"df-b614fdf2-834e-4dbf-b3bb-967ffbab82c2\" class=\"colab-df-container\">\n",
              "    <div>\n",
              "<style scoped>\n",
              "    .dataframe tbody tr th:only-of-type {\n",
              "        vertical-align: middle;\n",
              "    }\n",
              "\n",
              "    .dataframe tbody tr th {\n",
              "        vertical-align: top;\n",
              "    }\n",
              "\n",
              "    .dataframe thead th {\n",
              "        text-align: right;\n",
              "    }\n",
              "</style>\n",
              "<table border=\"1\" class=\"dataframe\">\n",
              "  <thead>\n",
              "    <tr style=\"text-align: right;\">\n",
              "      <th></th>\n",
              "      <th>species</th>\n",
              "      <th>island</th>\n",
              "      <th>bill_length_mm</th>\n",
              "      <th>bill_depth_mm</th>\n",
              "      <th>flipper_length_mm</th>\n",
              "      <th>body_mass_g</th>\n",
              "      <th>sex</th>\n",
              "    </tr>\n",
              "  </thead>\n",
              "  <tbody>\n",
              "    <tr>\n",
              "      <th>70</th>\n",
              "      <td>ADELIE</td>\n",
              "      <td>TORGERSEN</td>\n",
              "      <td>40.9</td>\n",
              "      <td>16.8</td>\n",
              "      <td>191.0</td>\n",
              "      <td>3700.0</td>\n",
              "      <td>FEMALE</td>\n",
              "    </tr>\n",
              "    <tr>\n",
              "      <th>52</th>\n",
              "      <td>ADELIE</td>\n",
              "      <td>BISCOE</td>\n",
              "      <td>36.5</td>\n",
              "      <td>16.6</td>\n",
              "      <td>181.0</td>\n",
              "      <td>2850.0</td>\n",
              "      <td>FEMALE</td>\n",
              "    </tr>\n",
              "    <tr>\n",
              "      <th>201</th>\n",
              "      <td>CHINSTRAP</td>\n",
              "      <td>DREAM</td>\n",
              "      <td>52.2</td>\n",
              "      <td>18.8</td>\n",
              "      <td>197.0</td>\n",
              "      <td>3450.0</td>\n",
              "      <td>MALE</td>\n",
              "    </tr>\n",
              "    <tr>\n",
              "      <th>43</th>\n",
              "      <td>ADELIE</td>\n",
              "      <td>DREAM</td>\n",
              "      <td>42.3</td>\n",
              "      <td>21.2</td>\n",
              "      <td>191.0</td>\n",
              "      <td>4150.0</td>\n",
              "      <td>MALE</td>\n",
              "    </tr>\n",
              "    <tr>\n",
              "      <th>133</th>\n",
              "      <td>ADELIE</td>\n",
              "      <td>DREAM</td>\n",
              "      <td>39.7</td>\n",
              "      <td>17.9</td>\n",
              "      <td>193.0</td>\n",
              "      <td>4250.0</td>\n",
              "      <td>MALE</td>\n",
              "    </tr>\n",
              "  </tbody>\n",
              "</table>\n",
              "</div>\n",
              "    <div class=\"colab-df-buttons\">\n",
              "\n",
              "  <div class=\"colab-df-container\">\n",
              "    <button class=\"colab-df-convert\" onclick=\"convertToInteractive('df-b614fdf2-834e-4dbf-b3bb-967ffbab82c2')\"\n",
              "            title=\"Convert this dataframe to an interactive table.\"\n",
              "            style=\"display:none;\">\n",
              "\n",
              "  <svg xmlns=\"http://www.w3.org/2000/svg\" height=\"24px\" viewBox=\"0 -960 960 960\">\n",
              "    <path d=\"M120-120v-720h720v720H120Zm60-500h600v-160H180v160Zm220 220h160v-160H400v160Zm0 220h160v-160H400v160ZM180-400h160v-160H180v160Zm440 0h160v-160H620v160ZM180-180h160v-160H180v160Zm440 0h160v-160H620v160Z\"/>\n",
              "  </svg>\n",
              "    </button>\n",
              "\n",
              "  <style>\n",
              "    .colab-df-container {\n",
              "      display:flex;\n",
              "      gap: 12px;\n",
              "    }\n",
              "\n",
              "    .colab-df-convert {\n",
              "      background-color: #E8F0FE;\n",
              "      border: none;\n",
              "      border-radius: 50%;\n",
              "      cursor: pointer;\n",
              "      display: none;\n",
              "      fill: #1967D2;\n",
              "      height: 32px;\n",
              "      padding: 0 0 0 0;\n",
              "      width: 32px;\n",
              "    }\n",
              "\n",
              "    .colab-df-convert:hover {\n",
              "      background-color: #E2EBFA;\n",
              "      box-shadow: 0px 1px 2px rgba(60, 64, 67, 0.3), 0px 1px 3px 1px rgba(60, 64, 67, 0.15);\n",
              "      fill: #174EA6;\n",
              "    }\n",
              "\n",
              "    .colab-df-buttons div {\n",
              "      margin-bottom: 4px;\n",
              "    }\n",
              "\n",
              "    [theme=dark] .colab-df-convert {\n",
              "      background-color: #3B4455;\n",
              "      fill: #D2E3FC;\n",
              "    }\n",
              "\n",
              "    [theme=dark] .colab-df-convert:hover {\n",
              "      background-color: #434B5C;\n",
              "      box-shadow: 0px 1px 3px 1px rgba(0, 0, 0, 0.15);\n",
              "      filter: drop-shadow(0px 1px 2px rgba(0, 0, 0, 0.3));\n",
              "      fill: #FFFFFF;\n",
              "    }\n",
              "  </style>\n",
              "\n",
              "    <script>\n",
              "      const buttonEl =\n",
              "        document.querySelector('#df-b614fdf2-834e-4dbf-b3bb-967ffbab82c2 button.colab-df-convert');\n",
              "      buttonEl.style.display =\n",
              "        google.colab.kernel.accessAllowed ? 'block' : 'none';\n",
              "\n",
              "      async function convertToInteractive(key) {\n",
              "        const element = document.querySelector('#df-b614fdf2-834e-4dbf-b3bb-967ffbab82c2');\n",
              "        const dataTable =\n",
              "          await google.colab.kernel.invokeFunction('convertToInteractive',\n",
              "                                                    [key], {});\n",
              "        if (!dataTable) return;\n",
              "\n",
              "        const docLinkHtml = 'Like what you see? Visit the ' +\n",
              "          '<a target=\"_blank\" href=https://colab.research.google.com/notebooks/data_table.ipynb>data table notebook</a>'\n",
              "          + ' to learn more about interactive tables.';\n",
              "        element.innerHTML = '';\n",
              "        dataTable['output_type'] = 'display_data';\n",
              "        await google.colab.output.renderOutput(dataTable, element);\n",
              "        const docLink = document.createElement('div');\n",
              "        docLink.innerHTML = docLinkHtml;\n",
              "        element.appendChild(docLink);\n",
              "      }\n",
              "    </script>\n",
              "  </div>\n",
              "\n",
              "\n",
              "<div id=\"df-156c548e-8e98-4a14-a019-cd82f5cca8a1\">\n",
              "  <button class=\"colab-df-quickchart\" onclick=\"quickchart('df-156c548e-8e98-4a14-a019-cd82f5cca8a1')\"\n",
              "            title=\"Suggest charts.\"\n",
              "            style=\"display:none;\">\n",
              "\n",
              "<svg xmlns=\"http://www.w3.org/2000/svg\" height=\"24px\"viewBox=\"0 0 24 24\"\n",
              "     width=\"24px\">\n",
              "    <g>\n",
              "        <path d=\"M19 3H5c-1.1 0-2 .9-2 2v14c0 1.1.9 2 2 2h14c1.1 0 2-.9 2-2V5c0-1.1-.9-2-2-2zM9 17H7v-7h2v7zm4 0h-2V7h2v10zm4 0h-2v-4h2v4z\"/>\n",
              "    </g>\n",
              "</svg>\n",
              "  </button>\n",
              "\n",
              "<style>\n",
              "  .colab-df-quickchart {\n",
              "      --bg-color: #E8F0FE;\n",
              "      --fill-color: #1967D2;\n",
              "      --hover-bg-color: #E2EBFA;\n",
              "      --hover-fill-color: #174EA6;\n",
              "      --disabled-fill-color: #AAA;\n",
              "      --disabled-bg-color: #DDD;\n",
              "  }\n",
              "\n",
              "  [theme=dark] .colab-df-quickchart {\n",
              "      --bg-color: #3B4455;\n",
              "      --fill-color: #D2E3FC;\n",
              "      --hover-bg-color: #434B5C;\n",
              "      --hover-fill-color: #FFFFFF;\n",
              "      --disabled-bg-color: #3B4455;\n",
              "      --disabled-fill-color: #666;\n",
              "  }\n",
              "\n",
              "  .colab-df-quickchart {\n",
              "    background-color: var(--bg-color);\n",
              "    border: none;\n",
              "    border-radius: 50%;\n",
              "    cursor: pointer;\n",
              "    display: none;\n",
              "    fill: var(--fill-color);\n",
              "    height: 32px;\n",
              "    padding: 0;\n",
              "    width: 32px;\n",
              "  }\n",
              "\n",
              "  .colab-df-quickchart:hover {\n",
              "    background-color: var(--hover-bg-color);\n",
              "    box-shadow: 0 1px 2px rgba(60, 64, 67, 0.3), 0 1px 3px 1px rgba(60, 64, 67, 0.15);\n",
              "    fill: var(--button-hover-fill-color);\n",
              "  }\n",
              "\n",
              "  .colab-df-quickchart-complete:disabled,\n",
              "  .colab-df-quickchart-complete:disabled:hover {\n",
              "    background-color: var(--disabled-bg-color);\n",
              "    fill: var(--disabled-fill-color);\n",
              "    box-shadow: none;\n",
              "  }\n",
              "\n",
              "  .colab-df-spinner {\n",
              "    border: 2px solid var(--fill-color);\n",
              "    border-color: transparent;\n",
              "    border-bottom-color: var(--fill-color);\n",
              "    animation:\n",
              "      spin 1s steps(1) infinite;\n",
              "  }\n",
              "\n",
              "  @keyframes spin {\n",
              "    0% {\n",
              "      border-color: transparent;\n",
              "      border-bottom-color: var(--fill-color);\n",
              "      border-left-color: var(--fill-color);\n",
              "    }\n",
              "    20% {\n",
              "      border-color: transparent;\n",
              "      border-left-color: var(--fill-color);\n",
              "      border-top-color: var(--fill-color);\n",
              "    }\n",
              "    30% {\n",
              "      border-color: transparent;\n",
              "      border-left-color: var(--fill-color);\n",
              "      border-top-color: var(--fill-color);\n",
              "      border-right-color: var(--fill-color);\n",
              "    }\n",
              "    40% {\n",
              "      border-color: transparent;\n",
              "      border-right-color: var(--fill-color);\n",
              "      border-top-color: var(--fill-color);\n",
              "    }\n",
              "    60% {\n",
              "      border-color: transparent;\n",
              "      border-right-color: var(--fill-color);\n",
              "    }\n",
              "    80% {\n",
              "      border-color: transparent;\n",
              "      border-right-color: var(--fill-color);\n",
              "      border-bottom-color: var(--fill-color);\n",
              "    }\n",
              "    90% {\n",
              "      border-color: transparent;\n",
              "      border-bottom-color: var(--fill-color);\n",
              "    }\n",
              "  }\n",
              "</style>\n",
              "\n",
              "  <script>\n",
              "    async function quickchart(key) {\n",
              "      const quickchartButtonEl =\n",
              "        document.querySelector('#' + key + ' button');\n",
              "      quickchartButtonEl.disabled = true;  // To prevent multiple clicks.\n",
              "      quickchartButtonEl.classList.add('colab-df-spinner');\n",
              "      try {\n",
              "        const charts = await google.colab.kernel.invokeFunction(\n",
              "            'suggestCharts', [key], {});\n",
              "      } catch (error) {\n",
              "        console.error('Error during call to suggestCharts:', error);\n",
              "      }\n",
              "      quickchartButtonEl.classList.remove('colab-df-spinner');\n",
              "      quickchartButtonEl.classList.add('colab-df-quickchart-complete');\n",
              "    }\n",
              "    (() => {\n",
              "      let quickchartButtonEl =\n",
              "        document.querySelector('#df-156c548e-8e98-4a14-a019-cd82f5cca8a1 button');\n",
              "      quickchartButtonEl.style.display =\n",
              "        google.colab.kernel.accessAllowed ? 'block' : 'none';\n",
              "    })();\n",
              "  </script>\n",
              "</div>\n",
              "    </div>\n",
              "  </div>\n"
            ]
          },
          "metadata": {},
          "execution_count": 13
        }
      ]
    },
    {
      "cell_type": "code",
      "source": [
        "# Selecionando as 50 primeiras linhas\n",
        "fifty_rows = df[0:15]"
      ],
      "metadata": {
        "id": "hS3BYEjakPYu"
      },
      "execution_count": null,
      "outputs": []
    },
    {
      "cell_type": "code",
      "source": [
        "# Selecionado as 3 primeiras colunas\n",
        "three_columns = df.iloc[0:5,0:3]"
      ],
      "metadata": {
        "id": "y3vvQJUEk8vB"
      },
      "execution_count": null,
      "outputs": []
    },
    {
      "cell_type": "code",
      "source": [
        "# Filtrando por condições usando consultas\n",
        "## Selecionando apenas pinguins apenas do sexo masculino\n",
        "male = df.query('sex == \"MALE\"')\n",
        "\n",
        "## Selecinando pinguins do sexo masculino e da espécie ADELIE\n",
        "adelie_male = df.query('sex == \"MALE\" and species == \"ADELIE\"')\n",
        "\n",
        "## Selecionando pinguins do sexo masculino, espécie ADELIE e com o comprimento do bico acima de 40 mm\n",
        "adelie_male_bill = df.query('sex == \"MALE\" and species == \"ADELIE\" and bill_length_mm > 40')"
      ],
      "metadata": {
        "id": "YHrvBCw_lvOF"
      },
      "execution_count": null,
      "outputs": []
    },
    {
      "cell_type": "code",
      "source": [
        "# Filtando por condições usando o dataframe\n",
        "## Selecionando apenas pinguins apenas do sexo masculino\n",
        "male = df[df.sex == \"MALE\"]\n",
        "\n",
        "## Selecinando pinguins do sexo masculino e da espécie ADELIE\n",
        "adelie_male = df[(df.sex == \"MALE\") & (df.species == \"ADELIE\")]\n",
        "\n",
        "## Selecionando pinguins do sexo masculino, espécie ADELIE e com o comprimento do bico acima de 40 mm\n",
        "adelie_male_bill = df[(df.sex == \"MALE\") & (df.species == \"ADELIE\") & (df.bill_length_mm > 40)]"
      ],
      "metadata": {
        "id": "P3_XEF_uq_cd"
      },
      "execution_count": null,
      "outputs": []
    },
    {
      "cell_type": "markdown",
      "source": [
        "# **Ordernação**"
      ],
      "metadata": {
        "id": "Szub5TNa3Qpd"
      }
    },
    {
      "cell_type": "markdown",
      "source": [
        "*Ordenação de dados refere-se ao processo de organizar um conjunto de informações em uma sequência específica com base em critérios específicos.*"
      ],
      "metadata": {
        "id": "ztOte7bY3ylo"
      }
    },
    {
      "cell_type": "code",
      "source": [
        "# Ordenando de forma ascendente os textos\n",
        "df.species.sort_values(ascending=True)"
      ],
      "metadata": {
        "id": "JsgXcHqm3UKQ"
      },
      "execution_count": null,
      "outputs": []
    },
    {
      "cell_type": "code",
      "source": [
        "# Ordenando de forma descendente os textos\n",
        "df.species.sort_values(ascending=False)"
      ],
      "metadata": {
        "id": "fXe_f9S_CHM6"
      },
      "execution_count": null,
      "outputs": []
    },
    {
      "cell_type": "code",
      "source": [
        "# Ordenando de forma ascendente os números\n",
        "df.bill_length_mm.sort_values(ascending=True)"
      ],
      "metadata": {
        "id": "977IdjehCh3U"
      },
      "execution_count": null,
      "outputs": []
    },
    {
      "cell_type": "code",
      "source": [
        "# Ordenando de forma descendente os números\n",
        "df.bill_length_mm.sort_values(ascending=False)"
      ],
      "metadata": {
        "id": "SJFRCbSDCPDn"
      },
      "execution_count": null,
      "outputs": []
    },
    {
      "cell_type": "code",
      "source": [
        "# Ordenando por mais colunas\n",
        "sorted_data = df.sort_values(by=['sex','species','island'], ascending=True)"
      ],
      "metadata": {
        "id": "HeSKhCoNZUZx"
      },
      "execution_count": null,
      "outputs": []
    },
    {
      "cell_type": "markdown",
      "source": [
        "# **Agregação de dados**"
      ],
      "metadata": {
        "id": "df8PYrGYb2ui"
      }
    },
    {
      "cell_type": "markdown",
      "source": [
        "*A agregação de dados é um processo no qual múltiplos valores individuais são combinados para formar um único valor representativo.*"
      ],
      "metadata": {
        "id": "L4CiBltmcNJa"
      }
    },
    {
      "cell_type": "code",
      "source": [
        "# Contando os valores por coluna textual\n",
        "df.species.value_counts()"
      ],
      "metadata": {
        "id": "__S1Nqqsb5aZ"
      },
      "execution_count": null,
      "outputs": []
    },
    {
      "cell_type": "code",
      "source": [
        "# Contando os valores por coluna numérica\n",
        "df.bill_length_mm.value_counts()"
      ],
      "metadata": {
        "id": "BYjHbZifdCxD"
      },
      "execution_count": null,
      "outputs": []
    },
    {
      "cell_type": "code",
      "source": [
        "# Agrupando utilizando groupby e fazendo a contagem\n",
        "df.groupby('species').species.count()"
      ],
      "metadata": {
        "id": "d4D8ipk8tf6D"
      },
      "execution_count": null,
      "outputs": []
    },
    {
      "cell_type": "code",
      "source": [
        "# Agrupando utilizando groupby, separando por sexo e fazendo a contagem\n",
        "df.groupby(['species','sex']).sex.count()"
      ],
      "metadata": {
        "id": "TSuSDrigtr3_"
      },
      "execution_count": null,
      "outputs": []
    },
    {
      "cell_type": "code",
      "source": [
        "# Agrupando e calculando a média do comprimento do bico\n",
        "df.groupby(['species','sex']).bill_length_mm.agg('median')"
      ],
      "metadata": {
        "id": "JoLTUSZXwSaJ"
      },
      "execution_count": null,
      "outputs": []
    },
    {
      "cell_type": "code",
      "source": [
        "# Agrupando utilizando groupby e calculando min, max e média\n",
        "df.drop(['island', 'sex'],axis=1).groupby('species').agg(column=['bill_length_mm','bill_depth_mm','flipper_length_mm','body_mass_g'], func=['min','max','mean'])"
      ],
      "metadata": {
        "id": "DZBJI_Mic1zD"
      },
      "execution_count": null,
      "outputs": []
    }
  ]
}