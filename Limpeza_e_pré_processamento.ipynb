{
  "nbformat": 4,
  "nbformat_minor": 0,
  "metadata": {
    "colab": {
      "provenance": []
    },
    "kernelspec": {
      "name": "python3",
      "display_name": "Python 3"
    },
    "language_info": {
      "name": "python"
    }
  },
  "cells": [
    {
      "cell_type": "markdown",
      "source": [
        "# **Limpeza e pré-processamento**"
      ],
      "metadata": {
        "id": "UsO9PlhCYiAf"
      }
    },
    {
      "cell_type": "markdown",
      "source": [
        "**Conjunto de dados**:\n",
        "\n",
        "Dra. Isabela Mendes é biológa especialista em observar pinguins nas regiões polares e percebeu que existem 3 tipos de pinguins, sendo possível identificar com algumas características.\n",
        "\n",
        "Essa identificação é importante para compreender suas populações, comportamentos e os impactos. Porém, essa tarefa torna-se desafiadora quando é realizada individualmente consumindo muito tempo, muitas vezes requerendo a análise minuciosa.\n",
        "\n",
        "Determinada a superar esses obstáculos ela acredita que a ciência de dados pode ajudar na identificação automática dos pinguins.\n",
        "\n",
        "**Fonte dos dados:** [Pinguins Palmer](https://github.com/mwaskom/seaborn-data/blob/master/penguins.csv)"
      ],
      "metadata": {
        "id": "wWqsiPOEYqvT"
      }
    },
    {
      "cell_type": "markdown",
      "source": [
        "**Roteiro**\n",
        "\n",
        "🔷 Realizar importações\n",
        "\n",
        "🔷 Carregar dados\n",
        "\n",
        "🔷 Verificar qualidade dos dados\n",
        "\n",
        "🔷 Limpar dados\n",
        "\n",
        "🔷 Salvar conjunto processado  \n"
      ],
      "metadata": {
        "id": "G_8gs--APHxM"
      }
    },
    {
      "cell_type": "markdown",
      "source": [
        "# **Importações**"
      ],
      "metadata": {
        "id": "BDW2xU9Kbc15"
      }
    },
    {
      "cell_type": "code",
      "source": [
        "import pandas as pd"
      ],
      "metadata": {
        "id": "VezeXsPnHQQ_"
      },
      "execution_count": null,
      "outputs": []
    },
    {
      "cell_type": "markdown",
      "source": [
        "# **Carregando dados**"
      ],
      "metadata": {
        "id": "RU3jFqlXbw7l"
      }
    },
    {
      "cell_type": "code",
      "source": [
        "df = pd.read_csv('/content/penguins.csv',sep=',')"
      ],
      "metadata": {
        "id": "ylRBINNib2W7"
      },
      "execution_count": null,
      "outputs": []
    },
    {
      "cell_type": "code",
      "source": [
        "# Exibindo as primeiras linhas\n",
        "df.head(3)"
      ],
      "metadata": {
        "id": "JTTo2UROcJsM"
      },
      "execution_count": null,
      "outputs": []
    },
    {
      "cell_type": "code",
      "source": [
        "# Exibindo as últimas linhas\n",
        "df.tail(3)"
      ],
      "metadata": {
        "colab": {
          "base_uri": "https://localhost:8080/",
          "height": 143
        },
        "id": "inCYT3QBcnOI",
        "outputId": "44eb53f2-b73a-4f45-b166-7324e83ac226"
      },
      "execution_count": null,
      "outputs": [
        {
          "output_type": "execute_result",
          "data": {
            "text/plain": [
              "    species  island  bill_length_mm  bill_depth_mm  flipper_length_mm  \\\n",
              "341  Gentoo  Biscoe            50.4           15.7              222.0   \n",
              "342  Gentoo  Biscoe            45.2           14.8              212.0   \n",
              "343  Gentoo  Biscoe            49.9           16.1              213.0   \n",
              "\n",
              "     body_mass_g     sex  \n",
              "341       5750.0    MALE  \n",
              "342       5200.0  FEMALE  \n",
              "343       5400.0    MALE  "
            ],
            "text/html": [
              "\n",
              "  <div id=\"df-53a390ed-fff7-4369-9b9f-b219b5edad1b\" class=\"colab-df-container\">\n",
              "    <div>\n",
              "<style scoped>\n",
              "    .dataframe tbody tr th:only-of-type {\n",
              "        vertical-align: middle;\n",
              "    }\n",
              "\n",
              "    .dataframe tbody tr th {\n",
              "        vertical-align: top;\n",
              "    }\n",
              "\n",
              "    .dataframe thead th {\n",
              "        text-align: right;\n",
              "    }\n",
              "</style>\n",
              "<table border=\"1\" class=\"dataframe\">\n",
              "  <thead>\n",
              "    <tr style=\"text-align: right;\">\n",
              "      <th></th>\n",
              "      <th>species</th>\n",
              "      <th>island</th>\n",
              "      <th>bill_length_mm</th>\n",
              "      <th>bill_depth_mm</th>\n",
              "      <th>flipper_length_mm</th>\n",
              "      <th>body_mass_g</th>\n",
              "      <th>sex</th>\n",
              "    </tr>\n",
              "  </thead>\n",
              "  <tbody>\n",
              "    <tr>\n",
              "      <th>341</th>\n",
              "      <td>Gentoo</td>\n",
              "      <td>Biscoe</td>\n",
              "      <td>50.4</td>\n",
              "      <td>15.7</td>\n",
              "      <td>222.0</td>\n",
              "      <td>5750.0</td>\n",
              "      <td>MALE</td>\n",
              "    </tr>\n",
              "    <tr>\n",
              "      <th>342</th>\n",
              "      <td>Gentoo</td>\n",
              "      <td>Biscoe</td>\n",
              "      <td>45.2</td>\n",
              "      <td>14.8</td>\n",
              "      <td>212.0</td>\n",
              "      <td>5200.0</td>\n",
              "      <td>FEMALE</td>\n",
              "    </tr>\n",
              "    <tr>\n",
              "      <th>343</th>\n",
              "      <td>Gentoo</td>\n",
              "      <td>Biscoe</td>\n",
              "      <td>49.9</td>\n",
              "      <td>16.1</td>\n",
              "      <td>213.0</td>\n",
              "      <td>5400.0</td>\n",
              "      <td>MALE</td>\n",
              "    </tr>\n",
              "  </tbody>\n",
              "</table>\n",
              "</div>\n",
              "    <div class=\"colab-df-buttons\">\n",
              "\n",
              "  <div class=\"colab-df-container\">\n",
              "    <button class=\"colab-df-convert\" onclick=\"convertToInteractive('df-53a390ed-fff7-4369-9b9f-b219b5edad1b')\"\n",
              "            title=\"Convert this dataframe to an interactive table.\"\n",
              "            style=\"display:none;\">\n",
              "\n",
              "  <svg xmlns=\"http://www.w3.org/2000/svg\" height=\"24px\" viewBox=\"0 -960 960 960\">\n",
              "    <path d=\"M120-120v-720h720v720H120Zm60-500h600v-160H180v160Zm220 220h160v-160H400v160Zm0 220h160v-160H400v160ZM180-400h160v-160H180v160Zm440 0h160v-160H620v160ZM180-180h160v-160H180v160Zm440 0h160v-160H620v160Z\"/>\n",
              "  </svg>\n",
              "    </button>\n",
              "\n",
              "  <style>\n",
              "    .colab-df-container {\n",
              "      display:flex;\n",
              "      gap: 12px;\n",
              "    }\n",
              "\n",
              "    .colab-df-convert {\n",
              "      background-color: #E8F0FE;\n",
              "      border: none;\n",
              "      border-radius: 50%;\n",
              "      cursor: pointer;\n",
              "      display: none;\n",
              "      fill: #1967D2;\n",
              "      height: 32px;\n",
              "      padding: 0 0 0 0;\n",
              "      width: 32px;\n",
              "    }\n",
              "\n",
              "    .colab-df-convert:hover {\n",
              "      background-color: #E2EBFA;\n",
              "      box-shadow: 0px 1px 2px rgba(60, 64, 67, 0.3), 0px 1px 3px 1px rgba(60, 64, 67, 0.15);\n",
              "      fill: #174EA6;\n",
              "    }\n",
              "\n",
              "    .colab-df-buttons div {\n",
              "      margin-bottom: 4px;\n",
              "    }\n",
              "\n",
              "    [theme=dark] .colab-df-convert {\n",
              "      background-color: #3B4455;\n",
              "      fill: #D2E3FC;\n",
              "    }\n",
              "\n",
              "    [theme=dark] .colab-df-convert:hover {\n",
              "      background-color: #434B5C;\n",
              "      box-shadow: 0px 1px 3px 1px rgba(0, 0, 0, 0.15);\n",
              "      filter: drop-shadow(0px 1px 2px rgba(0, 0, 0, 0.3));\n",
              "      fill: #FFFFFF;\n",
              "    }\n",
              "  </style>\n",
              "\n",
              "    <script>\n",
              "      const buttonEl =\n",
              "        document.querySelector('#df-53a390ed-fff7-4369-9b9f-b219b5edad1b button.colab-df-convert');\n",
              "      buttonEl.style.display =\n",
              "        google.colab.kernel.accessAllowed ? 'block' : 'none';\n",
              "\n",
              "      async function convertToInteractive(key) {\n",
              "        const element = document.querySelector('#df-53a390ed-fff7-4369-9b9f-b219b5edad1b');\n",
              "        const dataTable =\n",
              "          await google.colab.kernel.invokeFunction('convertToInteractive',\n",
              "                                                    [key], {});\n",
              "        if (!dataTable) return;\n",
              "\n",
              "        const docLinkHtml = 'Like what you see? Visit the ' +\n",
              "          '<a target=\"_blank\" href=https://colab.research.google.com/notebooks/data_table.ipynb>data table notebook</a>'\n",
              "          + ' to learn more about interactive tables.';\n",
              "        element.innerHTML = '';\n",
              "        dataTable['output_type'] = 'display_data';\n",
              "        await google.colab.output.renderOutput(dataTable, element);\n",
              "        const docLink = document.createElement('div');\n",
              "        docLink.innerHTML = docLinkHtml;\n",
              "        element.appendChild(docLink);\n",
              "      }\n",
              "    </script>\n",
              "  </div>\n",
              "\n",
              "\n",
              "<div id=\"df-61b6f394-74f4-4d8c-9951-7b9668397896\">\n",
              "  <button class=\"colab-df-quickchart\" onclick=\"quickchart('df-61b6f394-74f4-4d8c-9951-7b9668397896')\"\n",
              "            title=\"Suggest charts.\"\n",
              "            style=\"display:none;\">\n",
              "\n",
              "<svg xmlns=\"http://www.w3.org/2000/svg\" height=\"24px\"viewBox=\"0 0 24 24\"\n",
              "     width=\"24px\">\n",
              "    <g>\n",
              "        <path d=\"M19 3H5c-1.1 0-2 .9-2 2v14c0 1.1.9 2 2 2h14c1.1 0 2-.9 2-2V5c0-1.1-.9-2-2-2zM9 17H7v-7h2v7zm4 0h-2V7h2v10zm4 0h-2v-4h2v4z\"/>\n",
              "    </g>\n",
              "</svg>\n",
              "  </button>\n",
              "\n",
              "<style>\n",
              "  .colab-df-quickchart {\n",
              "      --bg-color: #E8F0FE;\n",
              "      --fill-color: #1967D2;\n",
              "      --hover-bg-color: #E2EBFA;\n",
              "      --hover-fill-color: #174EA6;\n",
              "      --disabled-fill-color: #AAA;\n",
              "      --disabled-bg-color: #DDD;\n",
              "  }\n",
              "\n",
              "  [theme=dark] .colab-df-quickchart {\n",
              "      --bg-color: #3B4455;\n",
              "      --fill-color: #D2E3FC;\n",
              "      --hover-bg-color: #434B5C;\n",
              "      --hover-fill-color: #FFFFFF;\n",
              "      --disabled-bg-color: #3B4455;\n",
              "      --disabled-fill-color: #666;\n",
              "  }\n",
              "\n",
              "  .colab-df-quickchart {\n",
              "    background-color: var(--bg-color);\n",
              "    border: none;\n",
              "    border-radius: 50%;\n",
              "    cursor: pointer;\n",
              "    display: none;\n",
              "    fill: var(--fill-color);\n",
              "    height: 32px;\n",
              "    padding: 0;\n",
              "    width: 32px;\n",
              "  }\n",
              "\n",
              "  .colab-df-quickchart:hover {\n",
              "    background-color: var(--hover-bg-color);\n",
              "    box-shadow: 0 1px 2px rgba(60, 64, 67, 0.3), 0 1px 3px 1px rgba(60, 64, 67, 0.15);\n",
              "    fill: var(--button-hover-fill-color);\n",
              "  }\n",
              "\n",
              "  .colab-df-quickchart-complete:disabled,\n",
              "  .colab-df-quickchart-complete:disabled:hover {\n",
              "    background-color: var(--disabled-bg-color);\n",
              "    fill: var(--disabled-fill-color);\n",
              "    box-shadow: none;\n",
              "  }\n",
              "\n",
              "  .colab-df-spinner {\n",
              "    border: 2px solid var(--fill-color);\n",
              "    border-color: transparent;\n",
              "    border-bottom-color: var(--fill-color);\n",
              "    animation:\n",
              "      spin 1s steps(1) infinite;\n",
              "  }\n",
              "\n",
              "  @keyframes spin {\n",
              "    0% {\n",
              "      border-color: transparent;\n",
              "      border-bottom-color: var(--fill-color);\n",
              "      border-left-color: var(--fill-color);\n",
              "    }\n",
              "    20% {\n",
              "      border-color: transparent;\n",
              "      border-left-color: var(--fill-color);\n",
              "      border-top-color: var(--fill-color);\n",
              "    }\n",
              "    30% {\n",
              "      border-color: transparent;\n",
              "      border-left-color: var(--fill-color);\n",
              "      border-top-color: var(--fill-color);\n",
              "      border-right-color: var(--fill-color);\n",
              "    }\n",
              "    40% {\n",
              "      border-color: transparent;\n",
              "      border-right-color: var(--fill-color);\n",
              "      border-top-color: var(--fill-color);\n",
              "    }\n",
              "    60% {\n",
              "      border-color: transparent;\n",
              "      border-right-color: var(--fill-color);\n",
              "    }\n",
              "    80% {\n",
              "      border-color: transparent;\n",
              "      border-right-color: var(--fill-color);\n",
              "      border-bottom-color: var(--fill-color);\n",
              "    }\n",
              "    90% {\n",
              "      border-color: transparent;\n",
              "      border-bottom-color: var(--fill-color);\n",
              "    }\n",
              "  }\n",
              "</style>\n",
              "\n",
              "  <script>\n",
              "    async function quickchart(key) {\n",
              "      const quickchartButtonEl =\n",
              "        document.querySelector('#' + key + ' button');\n",
              "      quickchartButtonEl.disabled = true;  // To prevent multiple clicks.\n",
              "      quickchartButtonEl.classList.add('colab-df-spinner');\n",
              "      try {\n",
              "        const charts = await google.colab.kernel.invokeFunction(\n",
              "            'suggestCharts', [key], {});\n",
              "      } catch (error) {\n",
              "        console.error('Error during call to suggestCharts:', error);\n",
              "      }\n",
              "      quickchartButtonEl.classList.remove('colab-df-spinner');\n",
              "      quickchartButtonEl.classList.add('colab-df-quickchart-complete');\n",
              "    }\n",
              "    (() => {\n",
              "      let quickchartButtonEl =\n",
              "        document.querySelector('#df-61b6f394-74f4-4d8c-9951-7b9668397896 button');\n",
              "      quickchartButtonEl.style.display =\n",
              "        google.colab.kernel.accessAllowed ? 'block' : 'none';\n",
              "    })();\n",
              "  </script>\n",
              "</div>\n",
              "    </div>\n",
              "  </div>\n"
            ]
          },
          "metadata": {},
          "execution_count": 9
        }
      ]
    },
    {
      "cell_type": "code",
      "source": [
        "# Exibindo linhas aleatórias\n",
        "df.sample(3)"
      ],
      "metadata": {
        "id": "5g4UE_DYcqsO"
      },
      "execution_count": null,
      "outputs": []
    },
    {
      "cell_type": "code",
      "source": [
        "# Exibindo informações básicas dos dados\n",
        "df.info()"
      ],
      "metadata": {
        "id": "xm65HagjePUZ"
      },
      "execution_count": null,
      "outputs": []
    },
    {
      "cell_type": "markdown",
      "source": [
        "# **Qualidade dos dados**"
      ],
      "metadata": {
        "id": "EAe6KZZt4xa5"
      }
    },
    {
      "cell_type": "markdown",
      "source": [
        "## **Valores constantes**\n",
        "\n",
        "*São valores que permanecem inalterados ao longo de um conjunto de dados ou de um programa.*"
      ],
      "metadata": {
        "id": "udrAx5tGeS1B"
      }
    },
    {
      "cell_type": "code",
      "source": [
        "df.species.value_counts()"
      ],
      "metadata": {
        "colab": {
          "base_uri": "https://localhost:8080/"
        },
        "id": "418wSZMEeY0p",
        "outputId": "53dc39d2-4f68-4bc0-eb0d-6014875f27ae"
      },
      "execution_count": null,
      "outputs": [
        {
          "output_type": "execute_result",
          "data": {
            "text/plain": [
              "Adelie       152\n",
              "Gentoo       124\n",
              "Chinstrap     68\n",
              "Name: species, dtype: int64"
            ]
          },
          "metadata": {},
          "execution_count": 20
        }
      ]
    },
    {
      "cell_type": "code",
      "source": [
        "df.island.value_counts()"
      ],
      "metadata": {
        "colab": {
          "base_uri": "https://localhost:8080/"
        },
        "id": "UVxVbXUCle2I",
        "outputId": "14426002-f17a-4ff6-af15-91f931acd438"
      },
      "execution_count": null,
      "outputs": [
        {
          "output_type": "execute_result",
          "data": {
            "text/plain": [
              "Biscoe       168\n",
              "Dream        124\n",
              "Torgersen     52\n",
              "Name: island, dtype: int64"
            ]
          },
          "metadata": {},
          "execution_count": 22
        }
      ]
    },
    {
      "cell_type": "code",
      "source": [
        "df.bill_length_mm.value_counts()"
      ],
      "metadata": {
        "colab": {
          "base_uri": "https://localhost:8080/"
        },
        "id": "QxVTqj3VlmRw",
        "outputId": "80f5eac6-31d8-4ac7-9a22-7ecc25c0039d"
      },
      "execution_count": null,
      "outputs": [
        {
          "output_type": "execute_result",
          "data": {
            "text/plain": [
              "41.1    7\n",
              "45.2    6\n",
              "39.6    5\n",
              "50.5    5\n",
              "50.0    5\n",
              "       ..\n",
              "35.6    1\n",
              "36.8    1\n",
              "43.1    1\n",
              "38.5    1\n",
              "49.9    1\n",
              "Name: bill_length_mm, Length: 164, dtype: int64"
            ]
          },
          "metadata": {},
          "execution_count": 23
        }
      ]
    },
    {
      "cell_type": "code",
      "source": [
        "df.sex.value_counts()"
      ],
      "metadata": {
        "colab": {
          "base_uri": "https://localhost:8080/"
        },
        "id": "keZGPqPTlxuD",
        "outputId": "6f7fb7f8-4cbb-4b23-caea-beabcaedd4c7"
      },
      "execution_count": null,
      "outputs": [
        {
          "output_type": "execute_result",
          "data": {
            "text/plain": [
              "MALE      168\n",
              "FEMALE    165\n",
              "Name: sex, dtype: int64"
            ]
          },
          "metadata": {},
          "execution_count": 12
        }
      ]
    },
    {
      "cell_type": "markdown",
      "source": [
        "## **Alta cardinalidade**\n",
        "\n",
        "A alta cardinalidade de um conjunto de dados significa que essa coluna possui muitos valores únicos em relação ao número total de entradas.\n",
        "\n",
        "\n",
        "**Base de cálculo**\n",
        "$$c = \\frac{x}{y}$$\n",
        "\n",
        "sendo:\n",
        "\n",
        "\n",
        "*   *c*: alta cardinalidade\n",
        "*   *x*: total de valores únicos\n",
        "*   *y*: total de valores"
      ],
      "metadata": {
        "id": "BaBe0OeMl-5c"
      }
    },
    {
      "cell_type": "code",
      "source": [
        "# Calculando o total de valores únicos\n",
        "x = len(df.species.unique())\n",
        "\n",
        "# Calculando o total de valores\n",
        "y = len(df.species)\n",
        "\n",
        "# Calculando alta cardinalidade\n",
        "c = x / y\n",
        "\n",
        "# Limiar da alta cardinalidade\n",
        "threshold = 0.8\n",
        "\n",
        "# Conferindo se a coluna possui alta cardinalidade\n",
        "if c > threshold:\n",
        "  print('APRESENTA ALTA CARDINALIDADE')\n",
        "else:\n",
        "  print('NÃO APRESENTA ALTA CARDINALIDADE')"
      ],
      "metadata": {
        "id": "9QdzHxX3l1aC"
      },
      "execution_count": null,
      "outputs": []
    },
    {
      "cell_type": "markdown",
      "source": [
        "## **Colunas desbalanceadas**\n",
        "\n",
        "*Referem-se a colunas que possuem uma distribuição desigual de valores entre suas categorias ou classes.*\n",
        "\n",
        "**Base de cálculo**\n",
        "$$d = \\frac{min}{max}$$\n",
        "\n",
        "sendo:\n",
        "\n",
        "\n",
        "*   *d*: desbalaceada\n",
        "*   *min*: frequência mínima\n",
        "*   *max*: frequência máxima\n"
      ],
      "metadata": {
        "id": "plQBAJwGuY0d"
      }
    },
    {
      "cell_type": "code",
      "source": [
        "df.species.value_counts().max()"
      ],
      "metadata": {
        "colab": {
          "base_uri": "https://localhost:8080/"
        },
        "id": "wDhK6JEL6r5q",
        "outputId": "e844e375-564e-415b-f5c8-1680a1a287f5"
      },
      "execution_count": null,
      "outputs": [
        {
          "output_type": "execute_result",
          "data": {
            "text/plain": [
              "152"
            ]
          },
          "metadata": {},
          "execution_count": 37
        }
      ]
    },
    {
      "cell_type": "code",
      "source": [
        "# Calculando a frequência mínima\n",
        "min = df.species.value_counts().min()\n",
        "\n",
        "# Calculando a frequência mínima\n",
        "max = df.species.value_counts().max()\n",
        "\n",
        "# Calculando o desbalanceamento\n",
        "d = min / max\n",
        "\n",
        "# Limiar do desbalanceamento\n",
        "threshold_d = 0.5\n",
        "\n",
        "# Conferindo o balaceamento da coluna\n",
        "if d < threshold_d:\n",
        "  print('DESBALANCEADA')\n",
        "else:\n",
        "  print('BALANCEADA')"
      ],
      "metadata": {
        "id": "eIEaGhC7w1in",
        "outputId": "e6d6ca32-5241-41c5-d834-ba281c4ff23c",
        "colab": {
          "base_uri": "https://localhost:8080/"
        }
      },
      "execution_count": null,
      "outputs": [
        {
          "output_type": "stream",
          "name": "stdout",
          "text": [
            "DESBALANCEADA\n"
          ]
        }
      ]
    },
    {
      "cell_type": "markdown",
      "source": [
        "## **Valores ausentes**\n",
        "\n",
        "*Também conhecidos como valores faltantes ou dados em falta, referem-se a entradas vazias ou ausentes em um conjunto de dados. Essas entradas são representadas por espaços em branco, marcadores especiais (como \"NaN\" - Not a Number), ou outros indicadores, dependendo do formato do conjunto de dados e da linguagem de programação ou ferramentas de análise utilizadas.*"
      ],
      "metadata": {
        "id": "ZYiLhGojzfMW"
      }
    },
    {
      "cell_type": "code",
      "source": [
        "# Identificando valores ausentes\n",
        "df.isna().sum()"
      ],
      "metadata": {
        "id": "7fCck5pJzxEJ"
      },
      "execution_count": null,
      "outputs": []
    },
    {
      "cell_type": "markdown",
      "source": [
        "## **Valores zeros**\n",
        "\n",
        "*São as características que apresentam valores zeros*"
      ],
      "metadata": {
        "id": "WiBG2mus0tjd"
      }
    },
    {
      "cell_type": "code",
      "source": [
        "# Calculando o total de valores\n",
        "total_values = len(df.bill_depth_mm)\n",
        "\n",
        "# Calculando os valores zeros\n",
        "zero_count = (df.bill_depth_mm == 0).sum()\n",
        "\n",
        "# Calculando proporção dos valores zeros\n",
        "zero_ratio = zero_count / total_values\n",
        "\n",
        "# Identificando se apresenta muitos valores zeros\n",
        "threshold_zero = 0.5\n",
        "\n",
        "if  zero_ratio > threshold_zero:\n",
        "  print('APRESENTA MUITOS VALORES 0')\n",
        "else:\n",
        "  print('NÃO APRESENTA MUITOS VALORES 0')"
      ],
      "metadata": {
        "id": "FmU8AZEk1Xyd",
        "outputId": "5bb7cccc-c50c-4374-a029-54acf578b330",
        "colab": {
          "base_uri": "https://localhost:8080/"
        }
      },
      "execution_count": null,
      "outputs": [
        {
          "output_type": "stream",
          "name": "stdout",
          "text": [
            "NÃO APRESENTA MUITOS VALORES 0\n"
          ]
        }
      ]
    },
    {
      "cell_type": "markdown",
      "source": [
        "# **Limpeza nos dados**"
      ],
      "metadata": {
        "id": "tiFsJFDV5Oe5"
      }
    },
    {
      "cell_type": "code",
      "source": [
        "# Removendo todos os valores ausentes\n",
        "df = df.dropna()"
      ],
      "metadata": {
        "id": "gfVf5uo68qmX"
      },
      "execution_count": null,
      "outputs": []
    },
    {
      "cell_type": "code",
      "source": [
        "# Padronizando nomes das colunas\n",
        "df.species = [x.upper() for x in df.species]\n",
        "df.island = [x.upper() for x in df.island]\n",
        "df.sex = [x.upper() for x in df.sex]"
      ],
      "metadata": {
        "id": "Jmp2F1GQ5W0j",
        "outputId": "e4d475c1-27c8-49a5-d90a-2595fccfe2eb",
        "colab": {
          "base_uri": "https://localhost:8080/"
        }
      },
      "execution_count": null,
      "outputs": [
        {
          "output_type": "stream",
          "name": "stderr",
          "text": [
            "<ipython-input-18-6b4a01857284>:2: SettingWithCopyWarning: \n",
            "A value is trying to be set on a copy of a slice from a DataFrame.\n",
            "Try using .loc[row_indexer,col_indexer] = value instead\n",
            "\n",
            "See the caveats in the documentation: https://pandas.pydata.org/pandas-docs/stable/user_guide/indexing.html#returning-a-view-versus-a-copy\n",
            "  df.species = [x.upper() for x in df.species]\n",
            "<ipython-input-18-6b4a01857284>:3: SettingWithCopyWarning: \n",
            "A value is trying to be set on a copy of a slice from a DataFrame.\n",
            "Try using .loc[row_indexer,col_indexer] = value instead\n",
            "\n",
            "See the caveats in the documentation: https://pandas.pydata.org/pandas-docs/stable/user_guide/indexing.html#returning-a-view-versus-a-copy\n",
            "  df.island = [x.upper() for x in df.island]\n",
            "<ipython-input-18-6b4a01857284>:4: SettingWithCopyWarning: \n",
            "A value is trying to be set on a copy of a slice from a DataFrame.\n",
            "Try using .loc[row_indexer,col_indexer] = value instead\n",
            "\n",
            "See the caveats in the documentation: https://pandas.pydata.org/pandas-docs/stable/user_guide/indexing.html#returning-a-view-versus-a-copy\n",
            "  df.sex = [x.upper() for x in df.sex]\n"
          ]
        }
      ]
    },
    {
      "cell_type": "markdown",
      "source": [
        "# **Salvando conjunto de dados processado**"
      ],
      "metadata": {
        "id": "_vj1tRtHAuWP"
      }
    },
    {
      "cell_type": "code",
      "source": [
        "df.to_csv('pinguins_processado.csv',sep=';',index=False)"
      ],
      "metadata": {
        "id": "_xVa10jd84QL"
      },
      "execution_count": null,
      "outputs": []
    }
  ]
}